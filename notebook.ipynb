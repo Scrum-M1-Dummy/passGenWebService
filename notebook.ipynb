{
 "cells": [
  {
   "cell_type": "markdown",
   "metadata": {},
   "source": [
    "**INTRODUCTION**\n",
    "\n",
    "Pour surveiller les logs du serveur, vous pouvez charger la page http://0.0.0.0:8080/logs\n",
    "dans un onglet de votre navigateur. Nous vous conseillons d'utiliser Firefox qui est capable de présenter correctement\n",
    "les données json.\n",
    "\n",
    "Après chaque exécution d'une cellule, vous pouvez rafraichir la page des log pour voir quel sont les nouveaux\n",
    "événements survenus sur le serveur"
   ]
  },
  {
   "cell_type": "code",
   "execution_count": 1,
   "metadata": {},
   "outputs": [],
   "source": [
    "from ift6758.ift6758.client.clientApp import ClientApp\n",
    "\n",
    "ca = ClientApp(ip=\"0.0.0.0\", port=8080)"
   ]
  },
  {
   "cell_type": "markdown",
   "metadata": {
    "pycharm": {
     "name": "#%% md\n"
    }
   },
   "source": [
    "**CHOIX DE LA LANGUE**\n",
    "Vous pouvez ci-dessous choisir la langue des log et la langue des messages du serveur au du client et des messages du client lui même.\n",
    "Si des messages n'ont pas été prévu dans une langue, il est automatiquement récupéré en anglais."
   ]
  },
  {
   "cell_type": "code",
   "execution_count": 2,
   "metadata": {
    "collapsed": false,
    "jupyter": {
     "outputs_hidden": false
    },
    "pycharm": {
     "name": "#%%\n"
    }
   },
   "outputs": [
    {
     "data": {
      "application/vnd.jupyter.widget-view+json": {
       "model_id": "1699c17fc180492e8bdc534ed718578f",
       "version_major": 2,
       "version_minor": 0
      },
      "text/plain": [
       "VBox(children=(Dropdown(description='Language:', options=(('Anglais', 'LANG_LOG_ANG'), ('Français', 'LANG_LOG_…"
      ]
     },
     "metadata": {},
     "output_type": "display_data"
    },
    {
     "data": {
      "application/vnd.jupyter.widget-view+json": {
       "model_id": "fcf6898df9444dce86080a3f2124b3f5",
       "version_major": 2,
       "version_minor": 0
      },
      "text/plain": [
       "VBox(children=(Dropdown(description='Language:', options=(('Anglais', 'LANG_MSG_ANG'), ('Français', 'LANG_MSG_…"
      ]
     },
     "metadata": {},
     "output_type": "display_data"
    }
   ],
   "source": [
    "ca.launch_widget_log_langue()\n",
    "ca.launch_widget_msg_langue()"
   ]
  },
  {
   "cell_type": "markdown",
   "metadata": {},
   "source": [
    "**MISE EN BOUCHE**\n",
    "\n",
    "Il est possible d'effectuer de 'simple' prédictions à partir de valeurs directement spécifiées dans un champ.\n",
    "\n",
    "__Simple prédiction avec le modèle iris__\n",
    "\n",
    "Nous vous proposons de faire une simple prédiction sur les données d'iris.\n",
    "\n",
    "Le bouton 'download model' permet de télécharger le modèle.\n",
    "\n",
    "Le bouton 'predict' permet d'effectuer une simple prédiction à partir des données passées dans le champ\n",
    "'features values'.\n",
    "\n",
    "Ici, la requête s'effectue normalement avec succès."
   ]
  },
  {
   "cell_type": "code",
   "execution_count": 2,
   "metadata": {
    "collapsed": false,
    "jupyter": {
     "outputs_hidden": false
    },
    "pycharm": {
     "name": "#%%\n"
    }
   },
   "outputs": [
    {
     "data": {
      "application/vnd.jupyter.widget-view+json": {
       "model_id": "76d29e7b85354a5193e308bb652d507f",
       "version_major": 2,
       "version_minor": 0
      },
      "text/plain": [
       "VBox(children=(Text(value='genkishi', description='Workspace:', placeholder='genkishi'), Text(value='iris-mode…"
      ]
     },
     "metadata": {},
     "output_type": "display_data"
    },
    {
     "data": {
      "application/vnd.jupyter.widget-view+json": {
       "model_id": "e29628f47a8349d29ae74fe396f60492",
       "version_major": 2,
       "version_minor": 0
      },
      "text/plain": [
       "VBox(children=(Text(value='[[5.8, 2.8, 5.1, 2.4], [5.6, 2.8, 4.9, 2.0]]', description='Values:', placeholder='…"
      ]
     },
     "metadata": {},
     "output_type": "display_data"
    }
   ],
   "source": [
    "ca.lauch_widget_simple_prediction(default_features_values='[[5.8, 2.8, 5.1, 2.4], [5.6, 2.8, 4.9, 2.0]]',\n",
    "                                  defaut_choice_model_name='iris-model')\n"
   ]
  }
 ],
 "metadata": {
  "kernelspec": {
   "display_name": "Python 3 (ipykernel)",
   "language": "python",
   "name": "python3"
  },
  "language_info": {
   "codemirror_mode": {
    "name": "ipython",
    "version": 3
   },
   "file_extension": ".py",
   "mimetype": "text/x-python",
   "name": "python",
   "nbconvert_exporter": "python",
   "pygments_lexer": "ipython3",
   "version": "3.9.7"
  }
 },
 "nbformat": 4,
 "nbformat_minor": 4
}